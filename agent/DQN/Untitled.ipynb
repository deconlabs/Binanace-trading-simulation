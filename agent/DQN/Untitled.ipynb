{
 "cells": [
  {
   "cell_type": "code",
   "execution_count": 1,
   "metadata": {},
   "outputs": [],
   "source": [
    "\n",
    "import torch\n",
    "import torch.nn as nn\n",
    "import torch.nn.functional as F\n",
    "import torch.optim as optim\n",
    "from envs.trading_env_integrated import TradingEnv\n",
    "import DQNTradingAgent.dqn_agent as dqn_agent"
   ]
  },
  {
   "cell_type": "code",
   "execution_count": 2,
   "metadata": {},
   "outputs": [],
   "source": [
    "import pandas as pd\n",
    "n_action_intervals = 5\n",
    "\n",
    "sample_len   = 480\n",
    "obs_data_len = 192\n",
    "step_len     = 1\n",
    "fee          = 0.0\n",
    "sell_at_end  = False\n",
    "\n",
    "df = pd.read_hdf('dataset/binance_data_train.h5', 'STW')\n",
    "df.fillna(method='ffill', inplace=True)"
   ]
  },
  {
   "cell_type": "code",
   "execution_count": 5,
   "metadata": {},
   "outputs": [
    {
     "name": "stderr",
     "output_type": "stream",
     "text": [
      "[2019-09-05 12:13:45,644] Making new env: custom_trading_env\n"
     ]
    }
   ],
   "source": [
    " class args():\n",
    "        def __init__(self, env_name):\n",
    "            self.environment = env_name\n",
    "\n",
    "args = args('macd')\n",
    "env = TradingEnv(custom_args=args, env_id='custom_trading_env', obs_data_len=obs_data_len, step_len=step_len, sample_len=sample_len,\n",
    "                     df=df, fee=fee, initial_budget=1, n_action_intervals=n_action_intervals, deal_col_name='c',\n",
    "                     sell_at_end=sell_at_end,\n",
    "                     feature_names=['o', 'h','l','c','v',\n",
    "                                    'num_trades', 'taker_base_vol'])"
   ]
  },
  {
   "cell_type": "code",
   "execution_count": 6,
   "metadata": {},
   "outputs": [
    {
     "name": "stderr",
     "output_type": "stream",
     "text": [
      "/home/jeffrey/Binanace_trading_simulation/agent/DQN/envs/trading_env_integrated.py:108: FutureWarning: Method .as_matrix will be removed in a future version. Use .values instead.\n",
      "  self.price = self.df_sample[self.price_name].as_matrix()\n",
      "/home/jeffrey/Binanace_trading_simulation/agent/DQN/envs/trading_env_integrated.py:110: FutureWarning: Method .as_matrix will be removed in a future version. Use .values instead.\n",
      "  self.obs_features = self.df_sample[self.using_feature].as_matrix()\n"
     ]
    },
    {
     "data": {
      "text/plain": [
       "array([[2.49530014e-04, 2.51630001e-04, 2.46999989e-04, ...,\n",
       "        1.22000000e+02, 8.24500000e+03, 0.00000000e+00],\n",
       "       [2.49030010e-04, 2.50000012e-04, 2.45000003e-04, ...,\n",
       "        1.93000000e+02, 1.41480000e+04, 0.00000000e+00],\n",
       "       [2.45150004e-04, 2.46999989e-04, 2.39989997e-04, ...,\n",
       "        2.38000000e+02, 3.21920000e+04, 0.00000000e+00],\n",
       "       ...,\n",
       "       [2.48700002e-04, 2.50799989e-04, 2.48700002e-04, ...,\n",
       "        5.80000000e+01, 9.05000000e+02, 0.00000000e+00],\n",
       "       [2.50100013e-04, 2.50799989e-04, 2.48550001e-04, ...,\n",
       "        4.80000000e+01, 1.44000000e+03, 0.00000000e+00],\n",
       "       [2.49320001e-04, 2.54529994e-04, 2.47790013e-04, ...,\n",
       "        9.30000000e+01, 1.82080000e+04, 0.00000000e+00]])"
      ]
     },
     "execution_count": 6,
     "metadata": {},
     "output_type": "execute_result"
    }
   ],
   "source": [
    "state = env.reset()\n",
    "state"
   ]
  },
  {
   "cell_type": "code",
   "execution_count": 7,
   "metadata": {},
   "outputs": [
    {
     "data": {
      "text/plain": [
       "(192, 8)"
      ]
     },
     "execution_count": 7,
     "metadata": {},
     "output_type": "execute_result"
    }
   ],
   "source": [
    "state.shape"
   ]
  },
  {
   "cell_type": "code",
   "execution_count": 10,
   "metadata": {},
   "outputs": [],
   "source": [
    "norm_layer = nn.LayerNorm((192,8))"
   ]
  },
  {
   "cell_type": "code",
   "execution_count": 12,
   "metadata": {},
   "outputs": [
    {
     "data": {
      "text/plain": [
       "tensor([[-0.2773, -0.2773, -0.2773,  ..., -0.2702,  0.2066, -0.2773],\n",
       "        [-0.2773, -0.2773, -0.2773,  ..., -0.2660,  0.5531, -0.2773],\n",
       "        [-0.2773, -0.2773, -0.2773,  ..., -0.2634,  1.6123, -0.2773],\n",
       "        ...,\n",
       "        [-0.2773, -0.2773, -0.2773,  ..., -0.2739, -0.2242, -0.2773],\n",
       "        [-0.2773, -0.2773, -0.2773,  ..., -0.2745, -0.1928, -0.2773],\n",
       "        [-0.2773, -0.2773, -0.2773,  ..., -0.2719,  0.7915, -0.2773]],\n",
       "       grad_fn=<AddcmulBackward>)"
      ]
     },
     "execution_count": 12,
     "metadata": {},
     "output_type": "execute_result"
    }
   ],
   "source": [
    "norm_layer(torch.from_numpy(state).float())"
   ]
  },
  {
   "cell_type": "code",
   "execution_count": null,
   "metadata": {},
   "outputs": [],
   "source": []
  }
 ],
 "metadata": {
  "kernelspec": {
   "display_name": "RL",
   "language": "python",
   "name": "rl"
  },
  "language_info": {
   "codemirror_mode": {
    "name": "ipython",
    "version": 3
   },
   "file_extension": ".py",
   "mimetype": "text/x-python",
   "name": "python",
   "nbconvert_exporter": "python",
   "pygments_lexer": "ipython3",
   "version": "3.7.2"
  }
 },
 "nbformat": 4,
 "nbformat_minor": 2
}
