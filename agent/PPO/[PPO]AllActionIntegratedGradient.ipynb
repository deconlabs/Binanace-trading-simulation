{
 "cells": [
  {
   "cell_type": "code",
   "execution_count": 1,
   "metadata": {},
   "outputs": [],
   "source": [
    "import random\n",
    "import numpy as np\n",
    "import pandas as pd\n",
    "import matplotlib.pyplot as plt\n",
    "\n",
    "import torch\n",
    "import torch.nn as nn\n",
    "import torch.nn.functional as F\n",
    "import torch.optim as optim\n",
    "from torch.distributions import Categorical\n",
    "\n",
    "from custom_trading_env import TradingEnv\n",
    "\n",
    "from utils import collect_trajectories, device, clipped_surrogate\n",
    "\n",
    "from PPOTradingAgent.model import CNNTradingAgent\n",
    "from common.multiprocessing_env import  SubprocVecEnv\n",
    "\n",
    "from tqdm import tqdm, tnrange\n"
   ]
  },
  {
   "cell_type": "code",
   "execution_count": 2,
   "metadata": {},
   "outputs": [],
   "source": [
    "df = pd.read_hdf('dataset/binance_data_train.h5', 'STW')\n",
    "df.fillna(method='ffill', inplace=True)"
   ]
  },
  {
   "cell_type": "code",
   "execution_count": 3,
   "metadata": {},
   "outputs": [],
   "source": [
    "# Hyperparameters\n",
    "\n",
    "class args:\n",
    "    def __init__(self,no_short):\n",
    "        self.no_short = no_short\n",
    "        self.device_num = 0\n",
    "        self.n_episodes = 3000\n",
    "        self.risk_aversion  = 1\n",
    "args = args(True)\n",
    "device = \"cuda:\" + str(args.device_num) if torch.cuda.is_available() else \"cpu\"\n",
    "save_interval = 1000\n",
    "num_envs = 16\n",
    "n_episodes   = args.n_episodes\n",
    "sample_len   = 480\n",
    "obs_data_len = 256\n",
    "step_len     = 16\n",
    "risk_aversion_multiplier = 0.5 + args.risk_aversion / 2\n",
    "n_action_intervals = 5\n",
    "init_budget = 1"
   ]
  },
  {
   "cell_type": "code",
   "execution_count": 4,
   "metadata": {},
   "outputs": [],
   "source": [
    "def make_env():\n",
    "    def _thunk():\n",
    "        env = TradingEnv(custom_args=args, env_id='custom_trading_env', obs_data_len=obs_data_len, step_len=step_len, sample_len=sample_len,\n",
    "                           df=df, fee=0.001, initial_budget=1, n_action_intervals=n_action_intervals, deal_col_name='c', sell_at_end=True,\n",
    "                           feature_names=['o', 'h','l','c','v',\n",
    "                                          'num_trades', 'taker_base_vol'])\n",
    "\n",
    "        return env\n",
    "\n",
    "    return _thunk"
   ]
  },
  {
   "cell_type": "code",
   "execution_count": 5,
   "metadata": {},
   "outputs": [
    {
     "name": "stderr",
     "output_type": "stream",
     "text": [
      "[2019-08-22 21:27:03,464] Making new env: custom_trading_env\n",
      "[2019-08-22 21:27:03,470] Making new env: custom_trading_env\n",
      "[2019-08-22 21:27:03,478] Making new env: custom_trading_env\n",
      "[2019-08-22 21:27:03,486] Making new env: custom_trading_env\n",
      "[2019-08-22 21:27:03,494] Making new env: custom_trading_env\n",
      "[2019-08-22 21:27:03,506] Making new env: custom_trading_env\n",
      "[2019-08-22 21:27:03,500] Making new env: custom_trading_env\n",
      "[2019-08-22 21:27:03,516] Making new env: custom_trading_env\n",
      "[2019-08-22 21:27:03,536] Making new env: custom_trading_env\n",
      "[2019-08-22 21:27:03,529] Making new env: custom_trading_env\n",
      "[2019-08-22 21:27:03,541] Making new env: custom_trading_env\n",
      "/home/jeffrey/Binanace_trading_simulation/agent/PPO/custom_trading_env.py:74: FutureWarning: Method .as_matrix will be removed in a future version. Use .values instead.\n",
      "  self.price = self.df_sample[self.price_name].as_matrix()\n",
      "/home/jeffrey/Binanace_trading_simulation/agent/PPO/custom_trading_env.py:74: FutureWarning: Method .as_matrix will be removed in a future version. Use .values instead.\n",
      "  self.price = self.df_sample[self.price_name].as_matrix()\n",
      "/home/jeffrey/Binanace_trading_simulation/agent/PPO/custom_trading_env.py:74: FutureWarning: Method .as_matrix will be removed in a future version. Use .values instead.\n",
      "  self.price = self.df_sample[self.price_name].as_matrix()\n",
      "/home/jeffrey/Binanace_trading_simulation/agent/PPO/custom_trading_env.py:74: FutureWarning: Method .as_matrix will be removed in a future version. Use .values instead.\n",
      "  self.price = self.df_sample[self.price_name].as_matrix()\n",
      "/home/jeffrey/Binanace_trading_simulation/agent/PPO/custom_trading_env.py:74: FutureWarning: Method .as_matrix will be removed in a future version. Use .values instead.\n",
      "  self.price = self.df_sample[self.price_name].as_matrix()\n",
      "/home/jeffrey/Binanace_trading_simulation/agent/PPO/custom_trading_env.py:74: FutureWarning: Method .as_matrix will be removed in a future version. Use .values instead.\n",
      "  self.price = self.df_sample[self.price_name].as_matrix()\n",
      "/home/jeffrey/Binanace_trading_simulation/agent/PPO/custom_trading_env.py:74: FutureWarning: Method .as_matrix will be removed in a future version. Use .values instead.\n",
      "  self.price = self.df_sample[self.price_name].as_matrix()\n",
      "/home/jeffrey/Binanace_trading_simulation/agent/PPO/custom_trading_env.py:76: FutureWarning: Method .as_matrix will be removed in a future version. Use .values instead.\n",
      "  self.obs_features = self.df_sample[self.using_feature].as_matrix()\n",
      "/home/jeffrey/Binanace_trading_simulation/agent/PPO/custom_trading_env.py:74: FutureWarning: Method .as_matrix will be removed in a future version. Use .values instead.\n",
      "  self.price = self.df_sample[self.price_name].as_matrix()\n",
      "/home/jeffrey/Binanace_trading_simulation/agent/PPO/custom_trading_env.py:76: FutureWarning: Method .as_matrix will be removed in a future version. Use .values instead.\n",
      "  self.obs_features = self.df_sample[self.using_feature].as_matrix()\n",
      "/home/jeffrey/Binanace_trading_simulation/agent/PPO/custom_trading_env.py:76: FutureWarning: Method .as_matrix will be removed in a future version. Use .values instead.\n",
      "  self.obs_features = self.df_sample[self.using_feature].as_matrix()\n",
      "/home/jeffrey/Binanace_trading_simulation/agent/PPO/custom_trading_env.py:76: FutureWarning: Method .as_matrix will be removed in a future version. Use .values instead.\n",
      "  self.obs_features = self.df_sample[self.using_feature].as_matrix()\n",
      "/home/jeffrey/Binanace_trading_simulation/agent/PPO/custom_trading_env.py:76: FutureWarning: Method .as_matrix will be removed in a future version. Use .values instead.\n",
      "  self.obs_features = self.df_sample[self.using_feature].as_matrix()\n",
      "/home/jeffrey/Binanace_trading_simulation/agent/PPO/custom_trading_env.py:74: FutureWarning: Method .as_matrix will be removed in a future version. Use .values instead.\n",
      "  self.price = self.df_sample[self.price_name].as_matrix()\n",
      "/home/jeffrey/Binanace_trading_simulation/agent/PPO/custom_trading_env.py:74: FutureWarning: Method .as_matrix will be removed in a future version. Use .values instead.\n",
      "  self.price = self.df_sample[self.price_name].as_matrix()\n",
      "/home/jeffrey/Binanace_trading_simulation/agent/PPO/custom_trading_env.py:76: FutureWarning: Method .as_matrix will be removed in a future version. Use .values instead.\n",
      "  self.obs_features = self.df_sample[self.using_feature].as_matrix()\n",
      "/home/jeffrey/Binanace_trading_simulation/agent/PPO/custom_trading_env.py:76: FutureWarning: Method .as_matrix will be removed in a future version. Use .values instead.\n",
      "  self.obs_features = self.df_sample[self.using_feature].as_matrix()\n",
      "/home/jeffrey/Binanace_trading_simulation/agent/PPO/custom_trading_env.py:76: FutureWarning: Method .as_matrix will be removed in a future version. Use .values instead.\n",
      "  self.obs_features = self.df_sample[self.using_feature].as_matrix()\n",
      "/home/jeffrey/Binanace_trading_simulation/agent/PPO/custom_trading_env.py:74: FutureWarning: Method .as_matrix will be removed in a future version. Use .values instead.\n",
      "  self.price = self.df_sample[self.price_name].as_matrix()\n",
      "/home/jeffrey/Binanace_trading_simulation/agent/PPO/custom_trading_env.py:76: FutureWarning: Method .as_matrix will be removed in a future version. Use .values instead.\n",
      "  self.obs_features = self.df_sample[self.using_feature].as_matrix()\n",
      "/home/jeffrey/Binanace_trading_simulation/agent/PPO/custom_trading_env.py:76: FutureWarning: Method .as_matrix will be removed in a future version. Use .values instead.\n",
      "  self.obs_features = self.df_sample[self.using_feature].as_matrix()\n",
      "/home/jeffrey/Binanace_trading_simulation/agent/PPO/custom_trading_env.py:76: FutureWarning: Method .as_matrix will be removed in a future version. Use .values instead.\n",
      "  self.obs_features = self.df_sample[self.using_feature].as_matrix()\n",
      "[2019-08-22 21:27:03,560] Making new env: custom_trading_env\n",
      "[2019-08-22 21:27:03,567] Making new env: custom_trading_env\n",
      "[2019-08-22 21:27:03,573] Making new env: custom_trading_env\n",
      "/home/jeffrey/Binanace_trading_simulation/agent/PPO/custom_trading_env.py:74: FutureWarning: Method .as_matrix will be removed in a future version. Use .values instead.\n",
      "  self.price = self.df_sample[self.price_name].as_matrix()\n",
      "[2019-08-22 21:27:03,552] Making new env: custom_trading_env\n",
      "/home/jeffrey/Binanace_trading_simulation/agent/PPO/custom_trading_env.py:74: FutureWarning: Method .as_matrix will be removed in a future version. Use .values instead.\n",
      "  self.price = self.df_sample[self.price_name].as_matrix()\n",
      "/home/jeffrey/Binanace_trading_simulation/agent/PPO/custom_trading_env.py:74: FutureWarning: Method .as_matrix will be removed in a future version. Use .values instead.\n",
      "  self.price = self.df_sample[self.price_name].as_matrix()\n",
      "[2019-08-22 21:27:03,579] Making new env: custom_trading_env\n",
      "/home/jeffrey/Binanace_trading_simulation/agent/PPO/custom_trading_env.py:76: FutureWarning: Method .as_matrix will be removed in a future version. Use .values instead.\n",
      "  self.obs_features = self.df_sample[self.using_feature].as_matrix()\n",
      "/home/jeffrey/Binanace_trading_simulation/agent/PPO/custom_trading_env.py:74: FutureWarning: Method .as_matrix will be removed in a future version. Use .values instead.\n",
      "  self.price = self.df_sample[self.price_name].as_matrix()\n",
      "/home/jeffrey/Binanace_trading_simulation/agent/PPO/custom_trading_env.py:76: FutureWarning: Method .as_matrix will be removed in a future version. Use .values instead.\n",
      "  self.obs_features = self.df_sample[self.using_feature].as_matrix()\n",
      "/home/jeffrey/Binanace_trading_simulation/agent/PPO/custom_trading_env.py:76: FutureWarning: Method .as_matrix will be removed in a future version. Use .values instead.\n",
      "  self.obs_features = self.df_sample[self.using_feature].as_matrix()\n",
      "/home/jeffrey/Binanace_trading_simulation/agent/PPO/custom_trading_env.py:74: FutureWarning: Method .as_matrix will be removed in a future version. Use .values instead.\n",
      "  self.price = self.df_sample[self.price_name].as_matrix()\n",
      "/home/jeffrey/Binanace_trading_simulation/agent/PPO/custom_trading_env.py:76: FutureWarning: Method .as_matrix will be removed in a future version. Use .values instead.\n",
      "  self.obs_features = self.df_sample[self.using_feature].as_matrix()\n"
     ]
    },
    {
     "name": "stderr",
     "output_type": "stream",
     "text": [
      "/home/jeffrey/Binanace_trading_simulation/agent/PPO/custom_trading_env.py:76: FutureWarning: Method .as_matrix will be removed in a future version. Use .values instead.\n",
      "  self.obs_features = self.df_sample[self.using_feature].as_matrix()\n"
     ]
    }
   ],
   "source": [
    "envs = [make_env() for _ in range(num_envs)]\n",
    "envs = SubprocVecEnv(envs)"
   ]
  },
  {
   "cell_type": "code",
   "execution_count": 6,
   "metadata": {
    "scrolled": true
   },
   "outputs": [],
   "source": [
    "model = CNNTradingAgent(num_features=envs.reset().shape[-1], n_actions=2 * n_action_intervals + 1).to(device)"
   ]
  },
  {
   "cell_type": "code",
   "execution_count": 7,
   "metadata": {},
   "outputs": [],
   "source": [
    "model.load_state_dict(torch.load('saves/Original/1/TradingGym_10000.pth' ,map_location = device))\n",
    "model.eval()\n",
    "for param in model.parameters():\n",
    "    param.requires_grad_(False)"
   ]
  },
  {
   "cell_type": "code",
   "execution_count": 8,
   "metadata": {},
   "outputs": [],
   "source": [
    "def integrated_gradient(input_data, baseline_data, action, n_steps):\n",
    "    assert input_data.shape == baseline_data.shape, \"the shape of `input_data` and `baseline_data` must match.\"\\\n",
    "                                                    \"(Given shapes: {}, {})\".format(input_data.shape, baseline_data.shape)\n",
    "    \n",
    "    diff      = input_data.data - baseline_data.data\n",
    "    increment = diff / n_steps\n",
    "    \n",
    "    x = baseline_data.data.clone()\n",
    "    x.requires_grad_(True)\n",
    "    \n",
    "    for i in tnrange(n_steps):\n",
    "        \n",
    "        \n",
    "        q = model(x.unsqueeze(0))[0,action]\n",
    "        q.backward()\n",
    "               \n",
    "        x.data.add_(increment)\n",
    "    \n",
    "    x.grad.div_(n_steps)\n",
    "    \n",
    "    return (diff * x.grad).squeeze(0)"
   ]
  },
  {
   "cell_type": "code",
   "execution_count": 9,
   "metadata": {},
   "outputs": [
    {
     "data": {
      "application/vnd.jupyter.widget-view+json": {
       "model_id": "817cb8b5713342909c3345b17048adb5",
       "version_major": 2,
       "version_minor": 0
      },
      "text/plain": [
       "HBox(children=(IntProgress(value=0, max=50), HTML(value='')))"
      ]
     },
     "metadata": {},
     "output_type": "display_data"
    },
    {
     "name": "stdout",
     "output_type": "stream",
     "text": [
      "\n"
     ]
    }
   ],
   "source": [
    "state = envs.reset()\n",
    "for _ in tnrange(50):  \n",
    "        probs = model(torch.from_numpy(state).float().to(device))\n",
    "        dist = Categorical(probs)\n",
    "        action = dist.sample()\n",
    " \n",
    "        next_state, reward, done, _ = envs.step(action.cpu().numpy())\n",
    "        state = next_state\n",
    "        \n",
    "        if done.any():\n",
    "            break"
   ]
  },
  {
   "cell_type": "code",
   "execution_count": 10,
   "metadata": {},
   "outputs": [],
   "source": [
    "state  = state[-1]"
   ]
  },
  {
   "cell_type": "code",
   "execution_count": 11,
   "metadata": {},
   "outputs": [],
   "source": [
    "input_data    = torch.from_numpy(state).float().to(device)\n",
    "baseline_data = torch.zeros_like(input_data).to(device)"
   ]
  },
  {
   "cell_type": "code",
   "execution_count": 12,
   "metadata": {},
   "outputs": [
    {
     "data": {
      "text/plain": [
       "torch.Size([256, 15])"
      ]
     },
     "execution_count": 12,
     "metadata": {},
     "output_type": "execute_result"
    }
   ],
   "source": [
    "input_data.shape"
   ]
  },
  {
   "cell_type": "code",
   "execution_count": 13,
   "metadata": {},
   "outputs": [
    {
     "data": {
      "text/plain": [
       "torch.Size([256, 15])"
      ]
     },
     "execution_count": 13,
     "metadata": {},
     "output_type": "execute_result"
    }
   ],
   "source": [
    "baseline_data.shape"
   ]
  },
  {
   "cell_type": "code",
   "execution_count": 14,
   "metadata": {},
   "outputs": [
    {
     "data": {
      "application/vnd.jupyter.widget-view+json": {
       "model_id": "d74e1ccc80a942eea17be0fd7720ae61",
       "version_major": 2,
       "version_minor": 0
      },
      "text/plain": [
       "HBox(children=(IntProgress(value=0, max=64), HTML(value='')))"
      ]
     },
     "metadata": {},
     "output_type": "display_data"
    },
    {
     "name": "stdout",
     "output_type": "stream",
     "text": [
      "\n"
     ]
    }
   ],
   "source": [
    "importances = integrated_gradient(input_data,baseline_data,action = 3 , n_steps = 64)"
   ]
  },
  {
   "cell_type": "code",
   "execution_count": 20,
   "metadata": {},
   "outputs": [
    {
     "data": {
      "application/vnd.jupyter.widget-view+json": {
       "model_id": "67f4c5e00acd4adea2afb218fcb9693c",
       "version_major": 2,
       "version_minor": 0
      },
      "text/plain": [
       "HBox(children=(IntProgress(value=0, description='action loop', max=11, style=ProgressStyle(description_width='…"
      ]
     },
     "metadata": {},
     "output_type": "display_data"
    },
    {
     "data": {
      "application/vnd.jupyter.widget-view+json": {
       "model_id": "ad09ac1cf4974c3bb23a5066df457e52",
       "version_major": 2,
       "version_minor": 0
      },
      "text/plain": [
       "HBox(children=(IntProgress(value=0), HTML(value='')))"
      ]
     },
     "metadata": {},
     "output_type": "display_data"
    },
    {
     "data": {
      "application/vnd.jupyter.widget-view+json": {
       "model_id": "d9e07cf90a75449f89242f534b56cba7",
       "version_major": 2,
       "version_minor": 0
      },
      "text/plain": [
       "HBox(children=(IntProgress(value=0), HTML(value='')))"
      ]
     },
     "metadata": {},
     "output_type": "display_data"
    },
    {
     "data": {
      "application/vnd.jupyter.widget-view+json": {
       "model_id": "1dc5f30a2ef84ed5a2422af1cc1ba7f3",
       "version_major": 2,
       "version_minor": 0
      },
      "text/plain": [
       "HBox(children=(IntProgress(value=0), HTML(value='')))"
      ]
     },
     "metadata": {},
     "output_type": "display_data"
    },
    {
     "data": {
      "application/vnd.jupyter.widget-view+json": {
       "model_id": "a9fc740808cf4009a29383fa596f31c4",
       "version_major": 2,
       "version_minor": 0
      },
      "text/plain": [
       "HBox(children=(IntProgress(value=0), HTML(value='')))"
      ]
     },
     "metadata": {},
     "output_type": "display_data"
    },
    {
     "data": {
      "application/vnd.jupyter.widget-view+json": {
       "model_id": "2da4f0cbb42e4c5493d8800e6c527a04",
       "version_major": 2,
       "version_minor": 0
      },
      "text/plain": [
       "HBox(children=(IntProgress(value=0), HTML(value='')))"
      ]
     },
     "metadata": {},
     "output_type": "display_data"
    },
    {
     "data": {
      "application/vnd.jupyter.widget-view+json": {
       "model_id": "95c22448e5f14b26ad35e79ac0d2e56e",
       "version_major": 2,
       "version_minor": 0
      },
      "text/plain": [
       "HBox(children=(IntProgress(value=0), HTML(value='')))"
      ]
     },
     "metadata": {},
     "output_type": "display_data"
    },
    {
     "data": {
      "application/vnd.jupyter.widget-view+json": {
       "model_id": "31b9c1bc67394b3b9341396fbfa42075",
       "version_major": 2,
       "version_minor": 0
      },
      "text/plain": [
       "HBox(children=(IntProgress(value=0), HTML(value='')))"
      ]
     },
     "metadata": {},
     "output_type": "display_data"
    },
    {
     "data": {
      "application/vnd.jupyter.widget-view+json": {
       "model_id": "c48bf5e09bc04c6686cfa909e4aefe1c",
       "version_major": 2,
       "version_minor": 0
      },
      "text/plain": [
       "HBox(children=(IntProgress(value=0), HTML(value='')))"
      ]
     },
     "metadata": {},
     "output_type": "display_data"
    },
    {
     "data": {
      "application/vnd.jupyter.widget-view+json": {
       "model_id": "f4442f04596045da8db047026f1185e4",
       "version_major": 2,
       "version_minor": 0
      },
      "text/plain": [
       "HBox(children=(IntProgress(value=0), HTML(value='')))"
      ]
     },
     "metadata": {},
     "output_type": "display_data"
    },
    {
     "data": {
      "application/vnd.jupyter.widget-view+json": {
       "model_id": "01a50dc4af15407483d15a9dd5154904",
       "version_major": 2,
       "version_minor": 0
      },
      "text/plain": [
       "HBox(children=(IntProgress(value=0), HTML(value='')))"
      ]
     },
     "metadata": {},
     "output_type": "display_data"
    },
    {
     "data": {
      "application/vnd.jupyter.widget-view+json": {
       "model_id": "c75eb3ff16a44873bd685e700f2df8b4",
       "version_major": 2,
       "version_minor": 0
      },
      "text/plain": [
       "HBox(children=(IntProgress(value=0), HTML(value='')))"
      ]
     },
     "metadata": {},
     "output_type": "display_data"
    },
    {
     "name": "stdout",
     "output_type": "stream",
     "text": [
      "\n"
     ]
    }
   ],
   "source": [
    "importances_list = [integrated_gradient(input_data, baseline_data, action=act, n_steps=100) for act in tnrange(2*n_action_intervals+1, desc = \"action loop\")]"
   ]
  },
  {
   "cell_type": "markdown",
   "metadata": {},
   "source": [
    "## original"
   ]
  },
  {
   "cell_type": "code",
   "execution_count": 18,
   "metadata": {
    "collapsed": true
   },
   "outputs": [
    {
     "data": {
      "text/plain": [
       "[]"
      ]
     },
     "execution_count": 18,
     "metadata": {},
     "output_type": "execute_result"
    },
    {
     "data": {
      "image/png": "[encoded data removed]",
      "text/plain": [
       "<Figure size 216x864 with 2 Axes>"
      ]
     },
     "metadata": {
      "needs_background": "light"
     },
     "output_type": "display_data"
    }
   ],
   "source": [
    "imp_sum = importances.cpu().sum(dim=0, keepdim=True).abs().t().flip([0])\n",
    "\n",
    "fig, ax = plt.subplots(1, 1, figsize=(3, 12))\n",
    "\n",
    "img = ax.pcolormesh(imp_sum, cmap='viridis', edgecolors='black')\n",
    "fig.colorbar(img)\n",
    "\n",
    "ax.set_title('Approximate Feature Importance (Summed over timesteps)')\n",
    "\n",
    "ax.set_ylabel('Features')\n",
    "ax.set_yticks(np.arange(importances.shape[1]) + 0.5)\n",
    "ax.set_yticklabels(['o', 'h','l','c','v', 'num_trades', 'taker_buy_base_vol',\n",
    "                    'posi', 'posi_var', 'posi_entry_cover', 'price', 'price_mean',\n",
    "                    'reward_fluc', 'makereal', 'reward'][::-1])\n",
    "# plt.setp(ax.get_xticklabels(), rotation=45, ha=\"left\", rotation_mode=\"anchor\")\n",
    "\n",
    "ax.set_xticks([])\n",
    "\n",
    "# for i in range(importances.shape[1]):\n",
    "#     text = ax.text(0.5, i+0.5, '{:f}'.format(imp_sum[i, 0].item()),\n",
    "#                    ha=\"center\", va=\"center\", color=\"b\",\n",
    "#                    path_effects=[PathEffects.withStroke(linewidth=5, foreground='w')])"
   ]
  },
  {
   "cell_type": "code",
   "execution_count": 21,
   "metadata": {},
   "outputs": [
    {
     "data": {
      "text/plain": [
       "torch.Size([11, 256, 15])"
      ]
     },
     "execution_count": 21,
     "metadata": {},
     "output_type": "execute_result"
    }
   ],
   "source": [
    "concat = torch.stack(importances_list)\n",
    "concat.shape"
   ]
  },
  {
   "cell_type": "code",
   "execution_count": 23,
   "metadata": {},
   "outputs": [
    {
     "data": {
      "text/plain": [
       "Text(0.5, 0, 'Actions')"
      ]
     },
     "execution_count": 23,
     "metadata": {},
     "output_type": "execute_result"
    },
    {
     "data": {
      "image/png": "[encoded data removed]",
      "text/plain": [
       "<Figure size 216x864 with 2 Axes>"
      ]
     },
     "metadata": {
      "needs_background": "light"
     },
     "output_type": "display_data"
    }
   ],
   "source": [
    "concat_sum = concat.sum(dim= 1)\n",
    "imp_sum = concat_sum.t().flip([0]).cpu()\n",
    "\n",
    "fig, ax = plt.subplots(1, 1, figsize=(3, 12))\n",
    "\n",
    "img = ax.pcolormesh(imp_sum, cmap='viridis', edgecolors='black')\n",
    "fig.colorbar(img)\n",
    "\n",
    "ax.set_title('Approximate Feature Importance (Summed over timesteps)')\n",
    "\n",
    "ax.set_ylabel('Features')\n",
    "ax.set_yticks(np.arange(importances.shape[1]) + 0.5)\n",
    "ax.set_yticklabels(['o', 'h','l','c','v', 'num_trades', 'taker_buy_base_vol',\n",
    "                    'posi', 'posi_var', 'posi_entry_cover', 'price', 'price_mean',\n",
    "                    'reward_fluc', 'makereal', 'reward'][::-1])\n",
    "# plt.setp(ax.get_xticklabels(), rotation=45, ha=\"left\", rotation_mode=\"anchor\")\n",
    "ax.set_xticks(np.arange(11)+0.5)\n",
    "ax.set_xticklabels(list(map(str,range(11))))\n",
    "ax.set_xlabel('Actions')\n",
    "# for i in range(importances.shape[1]):\n",
    "#     text = ax.text(0.5, i+0.5, '{:f}'.format(imp_sum[i, 0].item()),\n",
    "#                    ha=\"center\", va=\"center\", color=\"b\",\n",
    "#                    path_effects=[PathEffects.withStroke(linewidth=5, foreground='w')])"
   ]
  }
 ],
 "metadata": {
  "kernelspec": {
   "display_name": "RL",
   "language": "python",
   "name": "rl"
  },
  "language_info": {
   "codemirror_mode": {
    "name": "ipython",
    "version": 3
   },
   "file_extension": ".py",
   "mimetype": "text/x-python",
   "name": "python",
   "nbconvert_exporter": "python",
   "pygments_lexer": "ipython3",
   "version": "3.7.2"
  }
 },
 "nbformat": 4,
 "nbformat_minor": 2
}
