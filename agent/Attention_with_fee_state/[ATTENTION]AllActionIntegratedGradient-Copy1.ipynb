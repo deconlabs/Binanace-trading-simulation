{
 "cells": [
  {
   "cell_type": "code",
   "execution_count": 1,
   "metadata": {},
   "outputs": [],
   "source": [
    "import random\n",
    "import numpy as np\n",
    "import pandas as pd\n",
    "import matplotlib.pyplot as plt\n",
    "\n",
    "import os\n",
    "\n",
    "import torch\n",
    "import torch.nn as nn\n",
    "import torch.nn.functional as F\n",
    "import torch.optim as optim\n",
    "\n",
    "import matplotlib.pyplot as plt\n",
    "import matplotlib.patheffects as PathEffects\n",
    "%matplotlib inline\n",
    "\n",
    "from custom_trading_env import TradingEnv\n",
    "import DQNTradingAgent.dqn_agent as dqn_agent\n",
    "\n",
    "device = torch.device('cpu')\n",
    "dqn_agent.set_device(device)\n",
    "\n",
    "from tqdm import tqdm, tnrange"
   ]
  },
  {
   "cell_type": "code",
   "execution_count": 2,
   "metadata": {},
   "outputs": [],
   "source": [
    "n_action_intervals = 5\n",
    "\n",
    "sample_len   = 480\n",
    "obs_data_len = 192\n",
    "step_len     = 1\n",
    "fee          = 0.0005\n",
    "sell_at_end  = False\n",
    "\n",
    "hyperparam_path = \"./saves/1/hyperparams.pth\"\n",
    "statedict_path  = \"./saves/1/TradingGym_Rainbow_1000.pth\""
   ]
  },
  {
   "cell_type": "code",
   "execution_count": 3,
   "metadata": {},
   "outputs": [],
   "source": [
    "df = pd.read_hdf('dataset/binance_data_train.h5', 'STW')\n",
    "df.fillna(method='ffill', inplace=True)"
   ]
  },
  {
   "cell_type": "code",
   "execution_count": 4,
   "metadata": {},
   "outputs": [
    {
     "name": "stderr",
     "output_type": "stream",
     "text": [
      "[2019-08-24 10:55:31,299] Making new env: custom_trading_env\n"
     ]
    }
   ],
   "source": [
    "env = TradingEnv(custom_args=None, env_id='custom_trading_env', obs_data_len=obs_data_len, step_len=step_len, sample_len=sample_len,\n",
    "                     df=df, fee=fee, initial_budget=1, n_action_intervals=n_action_intervals, deal_col_name='c',\n",
    "                     sell_at_end=sell_at_end,\n",
    "                     feature_names=['o', 'h','l','c','v',\n",
    "                                    'num_trades', 'taker_base_vol'])"
   ]
  },
  {
   "cell_type": "code",
   "execution_count": 5,
   "metadata": {},
   "outputs": [
    {
     "name": "stderr",
     "output_type": "stream",
     "text": [
      "/home/jeffrey/Binanace_trading_simulation/agent/Attention_copy/custom_trading_env.py:100: FutureWarning: Method .as_matrix will be removed in a future version. Use .values instead.\n",
      "  self.price = self.df_sample[self.price_name].as_matrix()\n",
      "/home/jeffrey/Binanace_trading_simulation/agent/Attention_copy/custom_trading_env.py:102: FutureWarning: Method .as_matrix will be removed in a future version. Use .values instead.\n",
      "  self.obs_features = self.df_sample[self.using_feature].as_matrix()\n"
     ]
    }
   ],
   "source": [
    "agent = dqn_agent.Agent(action_size=2 * n_action_intervals + 1,\n",
    "                        obs_len=obs_data_len,\n",
    "                        num_features=env.reset().shape[-1],\n",
    "                        **torch.load(hyperparam_path))\n",
    "\n",
    "agent.qnetwork_local.load_state_dict(torch.load(statedict_path, map_location=device))\n",
    "agent.qnetwork_local.eval()\n",
    "for param in agent.qnetwork_local.parameters():\n",
    "    param.requires_grad_(False)"
   ]
  },
  {
   "cell_type": "code",
   "execution_count": 6,
   "metadata": {},
   "outputs": [],
   "source": [
    "def integrated_gradient(input_data, baseline_data, action, n_steps):\n",
    "    assert input_data.shape == baseline_data.shape, \"the shape of `input_data` and `baseline_data` must match.\"\\\n",
    "                                                    \"(Given shapes: {}, {})\".format(input_data.shape, baseline_data.shape)\n",
    "    \n",
    "    input_data    = input_data.view(1, *input_data.shape[-2:])\n",
    "    baseline_data = baseline_data.view(1, *baseline_data.shape[-2:])\n",
    "\n",
    "    diff      = input_data.data - baseline_data.data\n",
    "    increment = diff / n_steps\n",
    "    \n",
    "    x = baseline_data.data.clone()\n",
    "    x.requires_grad_(True)\n",
    "    \n",
    "    for i in tnrange(n_steps):\n",
    "        z_probs = F.softmax(agent.qnetwork_local(x)[0, action], dim=0)\n",
    "        q = agent.supports.mul(z_probs).sum()\n",
    "        \n",
    "        q.backward()\n",
    "        \n",
    "        x.data.add_(increment)\n",
    "    \n",
    "    x.grad.div_(n_steps)\n",
    "    \n",
    "    return (diff * x.grad).squeeze(0)"
   ]
  },
  {
   "cell_type": "code",
   "execution_count": 7,
   "metadata": {},
   "outputs": [
    {
     "data": {
      "application/vnd.jupyter.widget-view+json": {
       "model_id": "59cc3c16f1f04cf087f9572f55478911",
       "version_major": 2,
       "version_minor": 0
      },
      "text/plain": [
       "HBox(children=(IntProgress(value=0), HTML(value='')))"
      ]
     },
     "metadata": {},
     "output_type": "display_data"
    },
    {
     "name": "stdout",
     "output_type": "stream",
     "text": [
      "\n"
     ]
    }
   ],
   "source": [
    "next_state = env.reset()\n",
    "for i in tnrange(100):\n",
    "    state = next_state\n",
    "    action = int(agent.act(state, eps=0.))\n",
    "    next_state, _, done, _ = env.step(action)\n",
    "\n",
    "    if done:\n",
    "        break"
   ]
  },
  {
   "cell_type": "code",
   "execution_count": 8,
   "metadata": {},
   "outputs": [],
   "source": [
    "# input_data    = torch.from_numpy(env.reset()).float()\n",
    "input_data    = torch.from_numpy(state).float()\n",
    "\n",
    "# baseline_data = torch.from_numpy(env.reset()).float()\n",
    "# baseline_data = input_data.mean(dim=0).repeat(input_data.size(0), 1)\n",
    "# baseline_data = input_data[0].repeat(input_data.size(0), 1)\n",
    "baseline_data = torch.zeros_like(input_data)"
   ]
  },
  {
   "cell_type": "code",
   "execution_count": 9,
   "metadata": {},
   "outputs": [
    {
     "data": {
      "application/vnd.jupyter.widget-view+json": {
       "model_id": "3a046d554a4a4314ab358ae8e464c472",
       "version_major": 2,
       "version_minor": 0
      },
      "text/plain": [
       "HBox(children=(IntProgress(value=0), HTML(value='')))"
      ]
     },
     "metadata": {},
     "output_type": "display_data"
    },
    {
     "name": "stdout",
     "output_type": "stream",
     "text": [
      "\n"
     ]
    },
    {
     "data": {
      "text/plain": [
       "tensor([[ 9.2752e-04,  2.2157e-04,  1.0495e-04,  ..., -0.0000e+00,\n",
       "          0.0000e+00, -4.1600e-07],\n",
       "        [ 4.6138e-05, -8.7767e-06, -1.1327e-05,  ..., -0.0000e+00,\n",
       "          0.0000e+00, -1.4011e-07],\n",
       "        [-9.4030e-05, -6.6623e-05, -3.5453e-05,  ..., -0.0000e+00,\n",
       "          0.0000e+00, -2.9507e-07],\n",
       "        ...,\n",
       "        [-6.3441e-04, -3.6423e-04, -1.5940e-04,  ..., -0.0000e+00,\n",
       "          0.0000e+00, -1.8486e-06],\n",
       "        [ 1.0620e-03,  4.7507e-04,  1.6412e-04,  ...,  0.0000e+00,\n",
       "          0.0000e+00,  2.7814e-06],\n",
       "        [-2.6600e-03, -2.4727e-03, -1.2904e-03,  ..., -0.0000e+00,\n",
       "          0.0000e+00, -1.6140e-05]])"
      ]
     },
     "execution_count": 9,
     "metadata": {},
     "output_type": "execute_result"
    }
   ],
   "source": [
    "importances = integrated_gradient(input_data, baseline_data, action=1, n_steps=100)"
   ]
  },
  {
   "cell_type": "code",
   "execution_count": 10,
   "metadata": {},
   "outputs": [
    {
     "data": {
      "application/vnd.jupyter.widget-view+json": {
       "model_id": "6b65cb59f48d46dbba85faf7d01e480e",
       "version_major": 2,
       "version_minor": 0
      },
      "text/plain": [
       "HBox(children=(IntProgress(value=0, description='action loop', max=11, style=ProgressStyle(description_width='…"
      ]
     },
     "metadata": {},
     "output_type": "display_data"
    },
    {
     "data": {
      "application/vnd.jupyter.widget-view+json": {
       "model_id": "fdce0c06f206400db70faa5746349b03",
       "version_major": 2,
       "version_minor": 0
      },
      "text/plain": [
       "HBox(children=(IntProgress(value=0), HTML(value='')))"
      ]
     },
     "metadata": {},
     "output_type": "display_data"
    },
    {
     "data": {
      "application/vnd.jupyter.widget-view+json": {
       "model_id": "8dc1bd05569e4834b819c782bc0188d4",
       "version_major": 2,
       "version_minor": 0
      },
      "text/plain": [
       "HBox(children=(IntProgress(value=0), HTML(value='')))"
      ]
     },
     "metadata": {},
     "output_type": "display_data"
    },
    {
     "data": {
      "application/vnd.jupyter.widget-view+json": {
       "model_id": "3c042a0bf9eb4dd7b63f3f418415e548",
       "version_major": 2,
       "version_minor": 0
      },
      "text/plain": [
       "HBox(children=(IntProgress(value=0), HTML(value='')))"
      ]
     },
     "metadata": {},
     "output_type": "display_data"
    },
    {
     "data": {
      "application/vnd.jupyter.widget-view+json": {
       "model_id": "75f59bc31e794285a7686aa5c4786593",
       "version_major": 2,
       "version_minor": 0
      },
      "text/plain": [
       "HBox(children=(IntProgress(value=0), HTML(value='')))"
      ]
     },
     "metadata": {},
     "output_type": "display_data"
    },
    {
     "data": {
      "application/vnd.jupyter.widget-view+json": {
       "model_id": "8216ed436752477385708bf6ffa9493c",
       "version_major": 2,
       "version_minor": 0
      },
      "text/plain": [
       "HBox(children=(IntProgress(value=0), HTML(value='')))"
      ]
     },
     "metadata": {},
     "output_type": "display_data"
    },
    {
     "data": {
      "application/vnd.jupyter.widget-view+json": {
       "model_id": "7f0cd893dd1c48f99409e67fb1f3218d",
       "version_major": 2,
       "version_minor": 0
      },
      "text/plain": [
       "HBox(children=(IntProgress(value=0), HTML(value='')))"
      ]
     },
     "metadata": {},
     "output_type": "display_data"
    },
    {
     "data": {
      "application/vnd.jupyter.widget-view+json": {
       "model_id": "3328b9e0508a4fccbd306e0220425fb9",
       "version_major": 2,
       "version_minor": 0
      },
      "text/plain": [
       "HBox(children=(IntProgress(value=0), HTML(value='')))"
      ]
     },
     "metadata": {},
     "output_type": "display_data"
    },
    {
     "data": {
      "application/vnd.jupyter.widget-view+json": {
       "model_id": "4d2fa0371df24f6799e67a54ae976494",
       "version_major": 2,
       "version_minor": 0
      },
      "text/plain": [
       "HBox(children=(IntProgress(value=0), HTML(value='')))"
      ]
     },
     "metadata": {},
     "output_type": "display_data"
    },
    {
     "data": {
      "application/vnd.jupyter.widget-view+json": {
       "model_id": "6c73d6ad82c847c8ac4de467e011955b",
       "version_major": 2,
       "version_minor": 0
      },
      "text/plain": [
       "HBox(children=(IntProgress(value=0), HTML(value='')))"
      ]
     },
     "metadata": {},
     "output_type": "display_data"
    },
    {
     "data": {
      "application/vnd.jupyter.widget-view+json": {
       "model_id": "344b99957999436380c374debb5114ce",
       "version_major": 2,
       "version_minor": 0
      },
      "text/plain": [
       "HBox(children=(IntProgress(value=0), HTML(value='')))"
      ]
     },
     "metadata": {},
     "output_type": "display_data"
    },
    {
     "data": {
      "application/vnd.jupyter.widget-view+json": {
       "model_id": "55614b5cb80c462b8a781166fef88c55",
       "version_major": 2,
       "version_minor": 0
      },
      "text/plain": [
       "HBox(children=(IntProgress(value=0), HTML(value='')))"
      ]
     },
     "metadata": {},
     "output_type": "display_data"
    },
    {
     "name": "stdout",
     "output_type": "stream",
     "text": [
      "\n"
     ]
    }
   ],
   "source": [
    "importances_list = [integrated_gradient(input_data, baseline_data, action=act, n_steps=100) for act in tnrange(2*n_action_intervals+1, desc = \"action loop\")]"
   ]
  },
  {
   "cell_type": "markdown",
   "metadata": {},
   "source": [
    "## practice"
   ]
  },
  {
   "cell_type": "code",
   "execution_count": 12,
   "metadata": {},
   "outputs": [
    {
     "data": {
      "text/plain": [
       "torch.Size([11, 192, 16])"
      ]
     },
     "execution_count": 12,
     "metadata": {},
     "output_type": "execute_result"
    }
   ],
   "source": [
    "concat = torch.stack(importances_list)\n",
    "concat.shape"
   ]
  },
  {
   "cell_type": "code",
   "execution_count": 13,
   "metadata": {},
   "outputs": [],
   "source": [
    "concat_sum = concat.sum(dim= 1)"
   ]
  },
  {
   "cell_type": "code",
   "execution_count": 14,
   "metadata": {},
   "outputs": [
    {
     "data": {
      "text/plain": [
       "torch.Size([11, 16])"
      ]
     },
     "execution_count": 14,
     "metadata": {},
     "output_type": "execute_result"
    }
   ],
   "source": [
    "concat_sum.shape"
   ]
  },
  {
   "cell_type": "code",
   "execution_count": 16,
   "metadata": {},
   "outputs": [
    {
     "data": {
      "text/plain": [
       "Text(0.5, 0, 'Actions')"
      ]
     },
     "execution_count": 16,
     "metadata": {},
     "output_type": "execute_result"
    },
    {
     "data": {
      "image/png": "[encoded data removed]",
      "text/plain": [
       "<Figure size 216x864 with 2 Axes>"
      ]
     },
     "metadata": {
      "needs_background": "light"
     },
     "output_type": "display_data"
    }
   ],
   "source": [
    "imp_sum = concat_sum.t().flip([0])\n",
    "\n",
    "fig, ax = plt.subplots(1, 1, figsize=(3, 12))\n",
    "\n",
    "img = ax.pcolormesh(imp_sum, cmap='viridis', edgecolors='black')\n",
    "fig.colorbar(img)\n",
    "\n",
    "ax.set_title('Approximate Feature Importance (Summed over timesteps)')\n",
    "\n",
    "ax.set_ylabel('Features')\n",
    "ax.set_yticks(np.arange(importances_list[0].shape[1]) + 0.5)\n",
    "ax.set_yticklabels(['o', 'h','l','c','v', 'num_trades', 'taker_buy_base_vol',\n",
    "                    'posi', 'posi_var', 'posi_entry_cover', 'price', 'price_mean',\n",
    "                    'reward_fluc', 'makereal', 'reward','fee'][::-1])\n",
    "# plt.setp(ax.get_xticklabels(), rotation=45, ha=\"left\", rotation_mode=\"anchor\")\n",
    "ax.set_xticks(np.arange(11)+0.5)\n",
    "ax.set_xticklabels(list(map(str,range(11))))\n",
    "ax.set_xlabel('Actions')\n",
    "# for i in range(importances.shape[1]):\n",
    "#     text = ax.text(0.5, i+0.5, '{:f}'.format(imp_sum[i, 0].item()),\n",
    "#                    ha=\"center\", va=\"center\", color=\"b\",\n",
    "#                    path_effects=[PathEffects.withStroke(linewidth=5, foreground='w')])"
   ]
  },
  {
   "cell_type": "markdown",
   "metadata": {},
   "source": [
    "---\n"
   ]
  }
 ],
 "metadata": {
  "kernelspec": {
   "display_name": "RL",
   "language": "python",
   "name": "rl"
  },
  "language_info": {
   "codemirror_mode": {
    "name": "ipython",
    "version": 3
   },
   "file_extension": ".py",
   "mimetype": "text/x-python",
   "name": "python",
   "nbconvert_exporter": "python",
   "pygments_lexer": "ipython3",
   "version": "3.7.2"
  }
 },
 "nbformat": 4,
 "nbformat_minor": 2
}
