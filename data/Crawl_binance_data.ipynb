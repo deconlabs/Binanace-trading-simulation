{
 "cells": [
  {
   "cell_type": "code",
   "execution_count": 2,
   "metadata": {
    "ExecuteTime": {
     "end_time": "2019-07-15T02:41:27.646586Z",
     "start_time": "2019-07-15T02:41:23.829272Z"
    }
   },
   "outputs": [],
   "source": [
    "import requests        # for making http requests to binance\n",
    "import json            # for parsing what binance sends back to us\n",
    "import pandas as pd    # for storing and manipulating the data we get back\n",
    "import numpy as np     # numerical python, i usually need this somewhere \n",
    "                       # and so i import by habit nowadays\n",
    "\n",
    "import matplotlib.pyplot as plt # for charts and such\n",
    "    \n",
    "import datetime as dt  # for dealing with times"
   ]
  },
  {
   "cell_type": "code",
   "execution_count": 3,
   "metadata": {
    "ExecuteTime": {
     "end_time": "2019-07-15T02:41:27.655207Z",
     "start_time": "2019-07-15T02:41:27.648787Z"
    }
   },
   "outputs": [],
   "source": [
    "root_url = 'https://api.binance.com/api/v1/klines'"
   ]
  },
  {
   "cell_type": "code",
   "execution_count": 4,
   "metadata": {
    "ExecuteTime": {
     "end_time": "2019-07-15T03:07:58.769182Z",
     "start_time": "2019-07-15T03:07:58.759739Z"
    }
   },
   "outputs": [],
   "source": [
    "def get_bars(symbol, interval = '1h', limit=500, starttime='', endtime=''):\n",
    "    url = root_url + '?symbol=' + symbol + '&interval=' + interval + '&limit=' + str(limit)\n",
    "    if starttime:\n",
    "        url = url + '&startTime=' + str(starttime)\n",
    "    if endtime:\n",
    "        url = url + '&endTime=' + str(endtime)\n",
    "    data = json.loads(requests.get(url).text)\n",
    "    try:\n",
    "        df = pd.DataFrame(data)\n",
    "    except:\n",
    "        raise ValueError(data)\n",
    "    df.columns = ['open_time',\n",
    "                  'o', 'h', 'l', 'c', 'v',\n",
    "                  'close_time', 'qav', 'num_trades',\n",
    "                  'taker_base_vol', 'taker_quote_vol', 'ignore']\n",
    "    df.index = [dt.datetime.fromtimestamp(x/1000.0) for x in df.close_time]\n",
    "    return df"
   ]
  },
  {
   "cell_type": "code",
   "execution_count": 116,
   "metadata": {
    "ExecuteTime": {
     "end_time": "2019-07-15T03:18:58.767259Z",
     "start_time": "2019-07-15T03:18:58.649441Z"
    }
   },
   "outputs": [],
   "source": [
    "df = get_bars(\"BNBBTC\", interval='15m', limit=1000, starttime=1500004800000, endtime='')"
   ]
  },
  {
   "cell_type": "code",
   "execution_count": 117,
   "metadata": {
    "ExecuteTime": {
     "end_time": "2019-07-15T03:18:59.101050Z",
     "start_time": "2019-07-15T03:18:59.093698Z"
    }
   },
   "outputs": [
    {
     "data": {
      "text/plain": [
       "1000"
      ]
     },
     "execution_count": 117,
     "metadata": {},
     "output_type": "execute_result"
    }
   ],
   "source": [
    "len(df)"
   ]
  },
  {
   "cell_type": "code",
   "execution_count": 118,
   "metadata": {
    "ExecuteTime": {
     "end_time": "2019-07-15T03:18:59.511691Z",
     "start_time": "2019-07-15T03:18:59.495766Z"
    }
   },
   "outputs": [
    {
     "data": {
      "text/html": [
       "<div>\n",
       "<style scoped>\n",
       "    .dataframe tbody tr th:only-of-type {\n",
       "        vertical-align: middle;\n",
       "    }\n",
       "\n",
       "    .dataframe tbody tr th {\n",
       "        vertical-align: top;\n",
       "    }\n",
       "\n",
       "    .dataframe thead th {\n",
       "        text-align: right;\n",
       "    }\n",
       "</style>\n",
       "<table border=\"1\" class=\"dataframe\">\n",
       "  <thead>\n",
       "    <tr style=\"text-align: right;\">\n",
       "      <th></th>\n",
       "      <th>open_time</th>\n",
       "      <th>o</th>\n",
       "      <th>h</th>\n",
       "      <th>l</th>\n",
       "      <th>c</th>\n",
       "      <th>v</th>\n",
       "      <th>close_time</th>\n",
       "      <th>qav</th>\n",
       "      <th>num_trades</th>\n",
       "      <th>taker_base_vol</th>\n",
       "      <th>taker_quote_vol</th>\n",
       "      <th>ignore</th>\n",
       "    </tr>\n",
       "  </thead>\n",
       "  <tbody>\n",
       "    <tr>\n",
       "      <th>2017-07-14 13:29:59.999</th>\n",
       "      <td>1500005700000</td>\n",
       "      <td>0.00004086</td>\n",
       "      <td>0.00004898</td>\n",
       "      <td>0.00004000</td>\n",
       "      <td>0.00004747</td>\n",
       "      <td>1259082.00000000</td>\n",
       "      <td>1500006599999</td>\n",
       "      <td>56.06023368</td>\n",
       "      <td>305</td>\n",
       "      <td>943579.00000000</td>\n",
       "      <td>41.91450043</td>\n",
       "      <td>84713908.44046950</td>\n",
       "    </tr>\n",
       "    <tr>\n",
       "      <th>2017-07-14 13:44:59.999</th>\n",
       "      <td>1500006600000</td>\n",
       "      <td>0.00004747</td>\n",
       "      <td>0.00005480</td>\n",
       "      <td>0.00004747</td>\n",
       "      <td>0.00005348</td>\n",
       "      <td>1468616.00000000</td>\n",
       "      <td>1500007499999</td>\n",
       "      <td>76.15190292</td>\n",
       "      <td>295</td>\n",
       "      <td>1173502.00000000</td>\n",
       "      <td>60.49395309</td>\n",
       "      <td>85284586.80346950</td>\n",
       "    </tr>\n",
       "    <tr>\n",
       "      <th>2017-07-14 13:59:59.999</th>\n",
       "      <td>1500007500000</td>\n",
       "      <td>0.00005300</td>\n",
       "      <td>0.00005348</td>\n",
       "      <td>0.00004746</td>\n",
       "      <td>0.00004955</td>\n",
       "      <td>977907.00000000</td>\n",
       "      <td>1500008399999</td>\n",
       "      <td>49.83045683</td>\n",
       "      <td>218</td>\n",
       "      <td>372278.00000000</td>\n",
       "      <td>19.65486654</td>\n",
       "      <td>86413164.78446950</td>\n",
       "    </tr>\n",
       "    <tr>\n",
       "      <th>2017-07-14 14:14:59.999</th>\n",
       "      <td>1500008400000</td>\n",
       "      <td>0.00004946</td>\n",
       "      <td>0.00004946</td>\n",
       "      <td>0.00004480</td>\n",
       "      <td>0.00004491</td>\n",
       "      <td>625622.00000000</td>\n",
       "      <td>1500009299999</td>\n",
       "      <td>29.46253842</td>\n",
       "      <td>153</td>\n",
       "      <td>113307.00000000</td>\n",
       "      <td>5.45375234</td>\n",
       "      <td>86369375.53446950</td>\n",
       "    </tr>\n",
       "    <tr>\n",
       "      <th>2017-07-14 14:29:59.999</th>\n",
       "      <td>1500009300000</td>\n",
       "      <td>0.00004491</td>\n",
       "      <td>0.00004520</td>\n",
       "      <td>0.00003900</td>\n",
       "      <td>0.00004395</td>\n",
       "      <td>619113.00000000</td>\n",
       "      <td>1500010199999</td>\n",
       "      <td>25.27678474</td>\n",
       "      <td>123</td>\n",
       "      <td>177194.00000000</td>\n",
       "      <td>7.30468249</td>\n",
       "      <td>86339365.25446950</td>\n",
       "    </tr>\n",
       "  </tbody>\n",
       "</table>\n",
       "</div>"
      ],
      "text/plain": [
       "                             open_time           o           h           l  \\\n",
       "2017-07-14 13:29:59.999  1500005700000  0.00004086  0.00004898  0.00004000   \n",
       "2017-07-14 13:44:59.999  1500006600000  0.00004747  0.00005480  0.00004747   \n",
       "2017-07-14 13:59:59.999  1500007500000  0.00005300  0.00005348  0.00004746   \n",
       "2017-07-14 14:14:59.999  1500008400000  0.00004946  0.00004946  0.00004480   \n",
       "2017-07-14 14:29:59.999  1500009300000  0.00004491  0.00004520  0.00003900   \n",
       "\n",
       "                                  c                 v     close_time  \\\n",
       "2017-07-14 13:29:59.999  0.00004747  1259082.00000000  1500006599999   \n",
       "2017-07-14 13:44:59.999  0.00005348  1468616.00000000  1500007499999   \n",
       "2017-07-14 13:59:59.999  0.00004955   977907.00000000  1500008399999   \n",
       "2017-07-14 14:14:59.999  0.00004491   625622.00000000  1500009299999   \n",
       "2017-07-14 14:29:59.999  0.00004395   619113.00000000  1500010199999   \n",
       "\n",
       "                                 qav  num_trades    taker_base_vol  \\\n",
       "2017-07-14 13:29:59.999  56.06023368         305   943579.00000000   \n",
       "2017-07-14 13:44:59.999  76.15190292         295  1173502.00000000   \n",
       "2017-07-14 13:59:59.999  49.83045683         218   372278.00000000   \n",
       "2017-07-14 14:14:59.999  29.46253842         153   113307.00000000   \n",
       "2017-07-14 14:29:59.999  25.27678474         123   177194.00000000   \n",
       "\n",
       "                        taker_quote_vol             ignore  \n",
       "2017-07-14 13:29:59.999     41.91450043  84713908.44046950  \n",
       "2017-07-14 13:44:59.999     60.49395309  85284586.80346950  \n",
       "2017-07-14 13:59:59.999     19.65486654  86413164.78446950  \n",
       "2017-07-14 14:14:59.999      5.45375234  86369375.53446950  \n",
       "2017-07-14 14:29:59.999      7.30468249  86339365.25446950  "
      ]
     },
     "execution_count": 118,
     "metadata": {},
     "output_type": "execute_result"
    }
   ],
   "source": [
    "df.head()"
   ]
  },
  {
   "cell_type": "code",
   "execution_count": 100,
   "metadata": {
    "ExecuteTime": {
     "end_time": "2019-07-15T03:14:17.601138Z",
     "start_time": "2019-07-15T03:14:17.582448Z"
    }
   },
   "outputs": [
    {
     "data": {
      "text/html": [
       "<div>\n",
       "<style scoped>\n",
       "    .dataframe tbody tr th:only-of-type {\n",
       "        vertical-align: middle;\n",
       "    }\n",
       "\n",
       "    .dataframe tbody tr th {\n",
       "        vertical-align: top;\n",
       "    }\n",
       "\n",
       "    .dataframe thead th {\n",
       "        text-align: right;\n",
       "    }\n",
       "</style>\n",
       "<table border=\"1\" class=\"dataframe\">\n",
       "  <thead>\n",
       "    <tr style=\"text-align: right;\">\n",
       "      <th></th>\n",
       "      <th>open_time</th>\n",
       "      <th>o</th>\n",
       "      <th>h</th>\n",
       "      <th>l</th>\n",
       "      <th>c</th>\n",
       "      <th>v</th>\n",
       "      <th>close_time</th>\n",
       "      <th>qav</th>\n",
       "      <th>num_trades</th>\n",
       "      <th>taker_base_vol</th>\n",
       "      <th>taker_quote_vol</th>\n",
       "      <th>ignore</th>\n",
       "    </tr>\n",
       "  </thead>\n",
       "  <tbody>\n",
       "    <tr>\n",
       "      <th>2017-07-24 21:59:59.999</th>\n",
       "      <td>1500900300000</td>\n",
       "      <td>0.00004201</td>\n",
       "      <td>0.00004210</td>\n",
       "      <td>0.00004200</td>\n",
       "      <td>0.00004209</td>\n",
       "      <td>7947.00000000</td>\n",
       "      <td>1500901199999</td>\n",
       "      <td>0.33422454</td>\n",
       "      <td>17</td>\n",
       "      <td>1915.00000000</td>\n",
       "      <td>0.08061958</td>\n",
       "      <td>100045602.28789950</td>\n",
       "    </tr>\n",
       "    <tr>\n",
       "      <th>2017-07-24 22:14:59.999</th>\n",
       "      <td>1500901200000</td>\n",
       "      <td>0.00004209</td>\n",
       "      <td>0.00004224</td>\n",
       "      <td>0.00004200</td>\n",
       "      <td>0.00004218</td>\n",
       "      <td>22332.00000000</td>\n",
       "      <td>1500902099999</td>\n",
       "      <td>0.94069304</td>\n",
       "      <td>21</td>\n",
       "      <td>20998.00000000</td>\n",
       "      <td>0.88465282</td>\n",
       "      <td>100040614.28789950</td>\n",
       "    </tr>\n",
       "    <tr>\n",
       "      <th>2017-07-24 22:29:59.999</th>\n",
       "      <td>1500902100000</td>\n",
       "      <td>0.00004216</td>\n",
       "      <td>0.00004218</td>\n",
       "      <td>0.00004208</td>\n",
       "      <td>0.00004211</td>\n",
       "      <td>7952.00000000</td>\n",
       "      <td>1500902999999</td>\n",
       "      <td>0.33503502</td>\n",
       "      <td>22</td>\n",
       "      <td>4852.00000000</td>\n",
       "      <td>0.20446648</td>\n",
       "      <td>100048799.28789950</td>\n",
       "    </tr>\n",
       "    <tr>\n",
       "      <th>2017-07-24 22:44:59.999</th>\n",
       "      <td>1500903000000</td>\n",
       "      <td>0.00004216</td>\n",
       "      <td>0.00004225</td>\n",
       "      <td>0.00004214</td>\n",
       "      <td>0.00004222</td>\n",
       "      <td>36773.00000000</td>\n",
       "      <td>1500903899999</td>\n",
       "      <td>1.55194888</td>\n",
       "      <td>30</td>\n",
       "      <td>31338.00000000</td>\n",
       "      <td>1.32278706</td>\n",
       "      <td>100048799.28789950</td>\n",
       "    </tr>\n",
       "    <tr>\n",
       "      <th>2017-07-24 22:59:59.999</th>\n",
       "      <td>1500903900000</td>\n",
       "      <td>0.00004228</td>\n",
       "      <td>0.00004230</td>\n",
       "      <td>0.00004221</td>\n",
       "      <td>0.00004229</td>\n",
       "      <td>17608.00000000</td>\n",
       "      <td>1500904799999</td>\n",
       "      <td>0.74418614</td>\n",
       "      <td>23</td>\n",
       "      <td>10034.00000000</td>\n",
       "      <td>0.42421623</td>\n",
       "      <td>100048799.28789950</td>\n",
       "    </tr>\n",
       "  </tbody>\n",
       "</table>\n",
       "</div>"
      ],
      "text/plain": [
       "                             open_time           o           h           l  \\\n",
       "2017-07-24 21:59:59.999  1500900300000  0.00004201  0.00004210  0.00004200   \n",
       "2017-07-24 22:14:59.999  1500901200000  0.00004209  0.00004224  0.00004200   \n",
       "2017-07-24 22:29:59.999  1500902100000  0.00004216  0.00004218  0.00004208   \n",
       "2017-07-24 22:44:59.999  1500903000000  0.00004216  0.00004225  0.00004214   \n",
       "2017-07-24 22:59:59.999  1500903900000  0.00004228  0.00004230  0.00004221   \n",
       "\n",
       "                                  c               v     close_time  \\\n",
       "2017-07-24 21:59:59.999  0.00004209   7947.00000000  1500901199999   \n",
       "2017-07-24 22:14:59.999  0.00004218  22332.00000000  1500902099999   \n",
       "2017-07-24 22:29:59.999  0.00004211   7952.00000000  1500902999999   \n",
       "2017-07-24 22:44:59.999  0.00004222  36773.00000000  1500903899999   \n",
       "2017-07-24 22:59:59.999  0.00004229  17608.00000000  1500904799999   \n",
       "\n",
       "                                qav  num_trades  taker_base_vol  \\\n",
       "2017-07-24 21:59:59.999  0.33422454          17   1915.00000000   \n",
       "2017-07-24 22:14:59.999  0.94069304          21  20998.00000000   \n",
       "2017-07-24 22:29:59.999  0.33503502          22   4852.00000000   \n",
       "2017-07-24 22:44:59.999  1.55194888          30  31338.00000000   \n",
       "2017-07-24 22:59:59.999  0.74418614          23  10034.00000000   \n",
       "\n",
       "                        taker_quote_vol              ignore  \n",
       "2017-07-24 21:59:59.999      0.08061958  100045602.28789950  \n",
       "2017-07-24 22:14:59.999      0.88465282  100040614.28789950  \n",
       "2017-07-24 22:29:59.999      0.20446648  100048799.28789950  \n",
       "2017-07-24 22:44:59.999      1.32278706  100048799.28789950  \n",
       "2017-07-24 22:59:59.999      0.42421623  100048799.28789950  "
      ]
     },
     "execution_count": 100,
     "metadata": {},
     "output_type": "execute_result"
    }
   ],
   "source": [
    "df.tail()"
   ]
  },
  {
   "cell_type": "code",
   "execution_count": 129,
   "metadata": {
    "ExecuteTime": {
     "end_time": "2019-07-15T03:27:09.881896Z",
     "start_time": "2019-07-15T03:27:09.874657Z"
    }
   },
   "outputs": [
    {
     "data": {
      "text/plain": [
       "0.93995388"
      ]
     },
     "execution_count": 129,
     "metadata": {},
     "output_type": "execute_result"
    }
   ],
   "source": [
    "22332.00000000 * 0.00004209"
   ]
  },
  {
   "cell_type": "code",
   "execution_count": 74,
   "metadata": {
    "ExecuteTime": {
     "end_time": "2019-07-15T03:09:03.307913Z",
     "start_time": "2019-07-15T03:09:03.300547Z"
    }
   },
   "outputs": [
    {
     "data": {
      "text/plain": [
       "'Friday, July 14, 2017 11:40:00'"
      ]
     },
     "execution_count": 74,
     "metadata": {},
     "output_type": "execute_result"
    }
   ],
   "source": [
    "dt.datetime.fromtimestamp(1500000000000/1000).strftime(\"%A, %B %d, %Y %I:%M:%S\")"
   ]
  },
  {
   "cell_type": "code",
   "execution_count": 112,
   "metadata": {
    "ExecuteTime": {
     "end_time": "2019-07-15T03:17:34.372424Z",
     "start_time": "2019-07-15T03:17:34.365045Z"
    }
   },
   "outputs": [
    {
     "data": {
      "text/plain": [
       "'1500903900000'"
      ]
     },
     "execution_count": 112,
     "metadata": {},
     "output_type": "execute_result"
    }
   ],
   "source": [
    "repr(df['open_time'][-1])"
   ]
  },
  {
   "cell_type": "code",
   "execution_count": 131,
   "metadata": {
    "ExecuteTime": {
     "end_time": "2019-07-15T03:28:35.962973Z",
     "start_time": "2019-07-15T03:28:25.023134Z"
    }
   },
   "outputs": [
    {
     "name": "stdout",
     "output_type": "stream",
     "text": [
      "70\r"
     ]
    }
   ],
   "source": [
    "dfs = []\n",
    "starttime = 1500004800000\n",
    "\n",
    "l = 1000\n",
    "i = 0\n",
    "while l == 1000:\n",
    "# for _ in range(5):\n",
    "    df = get_bars(\"BNBBTC\", interval='15m', limit=1000, starttime=starttime, endtime='')\n",
    "    dfs.append(df)\n",
    "    l = len(df)\n",
    "    starttime = int(df['open_time'][-1]) + 1\n",
    "    i += 1\n",
    "    print(i, end='\\r')"
   ]
  },
  {
   "cell_type": "code",
   "execution_count": 124,
   "metadata": {
    "ExecuteTime": {
     "end_time": "2019-07-15T03:20:14.414843Z",
     "start_time": "2019-07-15T03:20:14.405901Z"
    }
   },
   "outputs": [
    {
     "data": {
      "text/plain": [
       "1000"
      ]
     },
     "execution_count": 124,
     "metadata": {},
     "output_type": "execute_result"
    }
   ],
   "source": [
    "len(dfs[0])"
   ]
  },
  {
   "cell_type": "code",
   "execution_count": 125,
   "metadata": {
    "ExecuteTime": {
     "end_time": "2019-07-15T03:20:23.264154Z",
     "start_time": "2019-07-15T03:20:23.257364Z"
    }
   },
   "outputs": [
    {
     "data": {
      "text/plain": [
       "1000"
      ]
     },
     "execution_count": 125,
     "metadata": {},
     "output_type": "execute_result"
    }
   ],
   "source": [
    "len(dfs[1])"
   ]
  },
  {
   "cell_type": "code",
   "execution_count": 127,
   "metadata": {
    "ExecuteTime": {
     "end_time": "2019-07-15T03:21:27.023255Z",
     "start_time": "2019-07-15T03:21:27.009114Z"
    }
   },
   "outputs": [
    {
     "data": {
      "text/plain": [
       "5000"
      ]
     },
     "execution_count": 127,
     "metadata": {},
     "output_type": "execute_result"
    }
   ],
   "source": [
    "len(pd.concat(dfs))"
   ]
  },
  {
   "cell_type": "code",
   "execution_count": 133,
   "metadata": {
    "ExecuteTime": {
     "end_time": "2019-07-15T03:29:05.841289Z",
     "start_time": "2019-07-15T03:29:05.833252Z"
    }
   },
   "outputs": [
    {
     "data": {
      "text/plain": [
       "812"
      ]
     },
     "execution_count": 133,
     "metadata": {},
     "output_type": "execute_result"
    }
   ],
   "source": [
    "len(dfs[-1])"
   ]
  },
  {
   "cell_type": "code",
   "execution_count": 134,
   "metadata": {
    "ExecuteTime": {
     "end_time": "2019-07-15T03:29:29.971401Z",
     "start_time": "2019-07-15T03:29:29.864494Z"
    }
   },
   "outputs": [],
   "source": [
    "huge_df = pd.concat(dfs)"
   ]
  },
  {
   "cell_type": "code",
   "execution_count": 135,
   "metadata": {
    "ExecuteTime": {
     "end_time": "2019-07-15T03:29:34.713463Z",
     "start_time": "2019-07-15T03:29:34.706464Z"
    }
   },
   "outputs": [
    {
     "data": {
      "text/plain": [
       "69812"
      ]
     },
     "execution_count": 135,
     "metadata": {},
     "output_type": "execute_result"
    }
   ],
   "source": [
    "len(huge_df)"
   ]
  },
  {
   "cell_type": "code",
   "execution_count": 138,
   "metadata": {
    "ExecuteTime": {
     "end_time": "2019-07-15T03:33:38.900300Z",
     "start_time": "2019-07-15T03:33:37.484944Z"
    }
   },
   "outputs": [],
   "source": [
    "huge_df.to_hdf('binance_data.h5', 'STW')"
   ]
  },
  {
   "cell_type": "code",
   "execution_count": 1,
   "metadata": {},
   "outputs": [],
   "source": [
    "import pandas as pd"
   ]
  },
  {
   "cell_type": "code",
   "execution_count": 5,
   "metadata": {
    "ExecuteTime": {
     "end_time": "2019-07-15T03:37:20.308175Z",
     "start_time": "2019-07-15T03:37:20.228802Z"
    }
   },
   "outputs": [
    {
     "data": {
      "text/html": [
       "<div>\n",
       "<style scoped>\n",
       "    .dataframe tbody tr th:only-of-type {\n",
       "        vertical-align: middle;\n",
       "    }\n",
       "\n",
       "    .dataframe tbody tr th {\n",
       "        vertical-align: top;\n",
       "    }\n",
       "\n",
       "    .dataframe thead th {\n",
       "        text-align: right;\n",
       "    }\n",
       "</style>\n",
       "<table border=\"1\" class=\"dataframe\">\n",
       "  <thead>\n",
       "    <tr style=\"text-align: right;\">\n",
       "      <th></th>\n",
       "      <th>datetime</th>\n",
       "      <th>open_time</th>\n",
       "      <th>o</th>\n",
       "      <th>h</th>\n",
       "      <th>l</th>\n",
       "      <th>c</th>\n",
       "      <th>v</th>\n",
       "      <th>close_time</th>\n",
       "      <th>qav</th>\n",
       "      <th>num_trades</th>\n",
       "      <th>taker_base_vol</th>\n",
       "      <th>taker_quote_vol</th>\n",
       "      <th>ignore</th>\n",
       "    </tr>\n",
       "  </thead>\n",
       "  <tbody>\n",
       "    <tr>\n",
       "      <th>0</th>\n",
       "      <td>2017-07-14 13:14:59.999</td>\n",
       "      <td>1500004800000</td>\n",
       "      <td>0.000050</td>\n",
       "      <td>0.000053</td>\n",
       "      <td>0.000010</td>\n",
       "      <td>0.000040</td>\n",
       "      <td>3148043.0</td>\n",
       "      <td>1500005699999</td>\n",
       "      <td>130.301971</td>\n",
       "      <td>451</td>\n",
       "      <td>2669352.0</td>\n",
       "      <td>111.184044</td>\n",
       "      <td>84396656.0</td>\n",
       "    </tr>\n",
       "    <tr>\n",
       "      <th>1</th>\n",
       "      <td>2017-07-14 13:29:59.999</td>\n",
       "      <td>1500005700000</td>\n",
       "      <td>0.000041</td>\n",
       "      <td>0.000049</td>\n",
       "      <td>0.000040</td>\n",
       "      <td>0.000047</td>\n",
       "      <td>1259082.0</td>\n",
       "      <td>1500006599999</td>\n",
       "      <td>56.060234</td>\n",
       "      <td>305</td>\n",
       "      <td>943579.0</td>\n",
       "      <td>41.914501</td>\n",
       "      <td>84713912.0</td>\n",
       "    </tr>\n",
       "    <tr>\n",
       "      <th>2</th>\n",
       "      <td>2017-07-14 13:44:59.999</td>\n",
       "      <td>1500006600000</td>\n",
       "      <td>0.000047</td>\n",
       "      <td>0.000055</td>\n",
       "      <td>0.000047</td>\n",
       "      <td>0.000053</td>\n",
       "      <td>1468616.0</td>\n",
       "      <td>1500007499999</td>\n",
       "      <td>76.151901</td>\n",
       "      <td>295</td>\n",
       "      <td>1173502.0</td>\n",
       "      <td>60.493954</td>\n",
       "      <td>85284584.0</td>\n",
       "    </tr>\n",
       "    <tr>\n",
       "      <th>3</th>\n",
       "      <td>2017-07-14 13:59:59.999</td>\n",
       "      <td>1500007500000</td>\n",
       "      <td>0.000053</td>\n",
       "      <td>0.000053</td>\n",
       "      <td>0.000047</td>\n",
       "      <td>0.000050</td>\n",
       "      <td>977907.0</td>\n",
       "      <td>1500008399999</td>\n",
       "      <td>49.830456</td>\n",
       "      <td>218</td>\n",
       "      <td>372278.0</td>\n",
       "      <td>19.654867</td>\n",
       "      <td>86413168.0</td>\n",
       "    </tr>\n",
       "    <tr>\n",
       "      <th>4</th>\n",
       "      <td>2017-07-14 14:14:59.999</td>\n",
       "      <td>1500008400000</td>\n",
       "      <td>0.000049</td>\n",
       "      <td>0.000049</td>\n",
       "      <td>0.000045</td>\n",
       "      <td>0.000045</td>\n",
       "      <td>625622.0</td>\n",
       "      <td>1500009299999</td>\n",
       "      <td>29.462538</td>\n",
       "      <td>153</td>\n",
       "      <td>113307.0</td>\n",
       "      <td>5.453753</td>\n",
       "      <td>86369376.0</td>\n",
       "    </tr>\n",
       "  </tbody>\n",
       "</table>\n",
       "</div>"
      ],
      "text/plain": [
       "                 datetime      open_time         o         h         l  \\\n",
       "0 2017-07-14 13:14:59.999  1500004800000  0.000050  0.000053  0.000010   \n",
       "1 2017-07-14 13:29:59.999  1500005700000  0.000041  0.000049  0.000040   \n",
       "2 2017-07-14 13:44:59.999  1500006600000  0.000047  0.000055  0.000047   \n",
       "3 2017-07-14 13:59:59.999  1500007500000  0.000053  0.000053  0.000047   \n",
       "4 2017-07-14 14:14:59.999  1500008400000  0.000049  0.000049  0.000045   \n",
       "\n",
       "          c          v     close_time         qav  num_trades  taker_base_vol  \\\n",
       "0  0.000040  3148043.0  1500005699999  130.301971         451       2669352.0   \n",
       "1  0.000047  1259082.0  1500006599999   56.060234         305        943579.0   \n",
       "2  0.000053  1468616.0  1500007499999   76.151901         295       1173502.0   \n",
       "3  0.000050   977907.0  1500008399999   49.830456         218        372278.0   \n",
       "4  0.000045   625622.0  1500009299999   29.462538         153        113307.0   \n",
       "\n",
       "   taker_quote_vol      ignore  \n",
       "0       111.184044  84396656.0  \n",
       "1        41.914501  84713912.0  \n",
       "2        60.493954  85284584.0  \n",
       "3        19.654867  86413168.0  \n",
       "4         5.453753  86369376.0  "
      ]
     },
     "execution_count": 5,
     "metadata": {},
     "output_type": "execute_result"
    }
   ],
   "source": [
    "df = pd.read_hdf('TradingGym/dataset/binance_data.h5', 'STW')\n",
    "df.head()"
   ]
  },
  {
   "cell_type": "code",
   "execution_count": 13,
   "metadata": {},
   "outputs": [],
   "source": [
    "idx = int(len(df)*0.05)\n",
    "df_train = df.iloc[:-idx]\n",
    "df_test = df.iloc[-idx:]"
   ]
  },
  {
   "cell_type": "code",
   "execution_count": 14,
   "metadata": {},
   "outputs": [
    {
     "data": {
      "text/plain": [
       "(66322, 13)"
      ]
     },
     "execution_count": 14,
     "metadata": {},
     "output_type": "execute_result"
    }
   ],
   "source": [
    "df_train.shape"
   ]
  },
  {
   "cell_type": "code",
   "execution_count": 15,
   "metadata": {},
   "outputs": [
    {
     "data": {
      "text/plain": [
       "(3490, 13)"
      ]
     },
     "execution_count": 15,
     "metadata": {},
     "output_type": "execute_result"
    }
   ],
   "source": [
    "df_test.shape"
   ]
  },
  {
   "cell_type": "code",
   "execution_count": 16,
   "metadata": {},
   "outputs": [
    {
     "data": {
      "text/html": [
       "<div>\n",
       "<style scoped>\n",
       "    .dataframe tbody tr th:only-of-type {\n",
       "        vertical-align: middle;\n",
       "    }\n",
       "\n",
       "    .dataframe tbody tr th {\n",
       "        vertical-align: top;\n",
       "    }\n",
       "\n",
       "    .dataframe thead th {\n",
       "        text-align: right;\n",
       "    }\n",
       "</style>\n",
       "<table border=\"1\" class=\"dataframe\">\n",
       "  <thead>\n",
       "    <tr style=\"text-align: right;\">\n",
       "      <th></th>\n",
       "      <th>datetime</th>\n",
       "      <th>open_time</th>\n",
       "      <th>o</th>\n",
       "      <th>h</th>\n",
       "      <th>l</th>\n",
       "      <th>c</th>\n",
       "      <th>v</th>\n",
       "      <th>close_time</th>\n",
       "      <th>qav</th>\n",
       "      <th>num_trades</th>\n",
       "      <th>taker_base_vol</th>\n",
       "      <th>taker_quote_vol</th>\n",
       "      <th>ignore</th>\n",
       "    </tr>\n",
       "  </thead>\n",
       "  <tbody>\n",
       "    <tr>\n",
       "      <th>0</th>\n",
       "      <td>2017-07-14 13:14:59.999</td>\n",
       "      <td>1500004800000</td>\n",
       "      <td>0.000050</td>\n",
       "      <td>0.000053</td>\n",
       "      <td>0.000010</td>\n",
       "      <td>0.000040</td>\n",
       "      <td>3148043.0</td>\n",
       "      <td>1500005699999</td>\n",
       "      <td>130.301971</td>\n",
       "      <td>451</td>\n",
       "      <td>2669352.0</td>\n",
       "      <td>111.184044</td>\n",
       "      <td>84396656.0</td>\n",
       "    </tr>\n",
       "    <tr>\n",
       "      <th>1</th>\n",
       "      <td>2017-07-14 13:29:59.999</td>\n",
       "      <td>1500005700000</td>\n",
       "      <td>0.000041</td>\n",
       "      <td>0.000049</td>\n",
       "      <td>0.000040</td>\n",
       "      <td>0.000047</td>\n",
       "      <td>1259082.0</td>\n",
       "      <td>1500006599999</td>\n",
       "      <td>56.060234</td>\n",
       "      <td>305</td>\n",
       "      <td>943579.0</td>\n",
       "      <td>41.914501</td>\n",
       "      <td>84713912.0</td>\n",
       "    </tr>\n",
       "    <tr>\n",
       "      <th>2</th>\n",
       "      <td>2017-07-14 13:44:59.999</td>\n",
       "      <td>1500006600000</td>\n",
       "      <td>0.000047</td>\n",
       "      <td>0.000055</td>\n",
       "      <td>0.000047</td>\n",
       "      <td>0.000053</td>\n",
       "      <td>1468616.0</td>\n",
       "      <td>1500007499999</td>\n",
       "      <td>76.151901</td>\n",
       "      <td>295</td>\n",
       "      <td>1173502.0</td>\n",
       "      <td>60.493954</td>\n",
       "      <td>85284584.0</td>\n",
       "    </tr>\n",
       "    <tr>\n",
       "      <th>3</th>\n",
       "      <td>2017-07-14 13:59:59.999</td>\n",
       "      <td>1500007500000</td>\n",
       "      <td>0.000053</td>\n",
       "      <td>0.000053</td>\n",
       "      <td>0.000047</td>\n",
       "      <td>0.000050</td>\n",
       "      <td>977907.0</td>\n",
       "      <td>1500008399999</td>\n",
       "      <td>49.830456</td>\n",
       "      <td>218</td>\n",
       "      <td>372278.0</td>\n",
       "      <td>19.654867</td>\n",
       "      <td>86413168.0</td>\n",
       "    </tr>\n",
       "    <tr>\n",
       "      <th>4</th>\n",
       "      <td>2017-07-14 14:14:59.999</td>\n",
       "      <td>1500008400000</td>\n",
       "      <td>0.000049</td>\n",
       "      <td>0.000049</td>\n",
       "      <td>0.000045</td>\n",
       "      <td>0.000045</td>\n",
       "      <td>625622.0</td>\n",
       "      <td>1500009299999</td>\n",
       "      <td>29.462538</td>\n",
       "      <td>153</td>\n",
       "      <td>113307.0</td>\n",
       "      <td>5.453753</td>\n",
       "      <td>86369376.0</td>\n",
       "    </tr>\n",
       "  </tbody>\n",
       "</table>\n",
       "</div>"
      ],
      "text/plain": [
       "                 datetime      open_time         o         h         l  \\\n",
       "0 2017-07-14 13:14:59.999  1500004800000  0.000050  0.000053  0.000010   \n",
       "1 2017-07-14 13:29:59.999  1500005700000  0.000041  0.000049  0.000040   \n",
       "2 2017-07-14 13:44:59.999  1500006600000  0.000047  0.000055  0.000047   \n",
       "3 2017-07-14 13:59:59.999  1500007500000  0.000053  0.000053  0.000047   \n",
       "4 2017-07-14 14:14:59.999  1500008400000  0.000049  0.000049  0.000045   \n",
       "\n",
       "          c          v     close_time         qav  num_trades  taker_base_vol  \\\n",
       "0  0.000040  3148043.0  1500005699999  130.301971         451       2669352.0   \n",
       "1  0.000047  1259082.0  1500006599999   56.060234         305        943579.0   \n",
       "2  0.000053  1468616.0  1500007499999   76.151901         295       1173502.0   \n",
       "3  0.000050   977907.0  1500008399999   49.830456         218        372278.0   \n",
       "4  0.000045   625622.0  1500009299999   29.462538         153        113307.0   \n",
       "\n",
       "   taker_quote_vol      ignore  \n",
       "0       111.184044  84396656.0  \n",
       "1        41.914501  84713912.0  \n",
       "2        60.493954  85284584.0  \n",
       "3        19.654867  86413168.0  \n",
       "4         5.453753  86369376.0  "
      ]
     },
     "execution_count": 16,
     "metadata": {},
     "output_type": "execute_result"
    }
   ],
   "source": [
    "df_train.head()"
   ]
  },
  {
   "cell_type": "code",
   "execution_count": 17,
   "metadata": {},
   "outputs": [
    {
     "data": {
      "text/html": [
       "<div>\n",
       "<style scoped>\n",
       "    .dataframe tbody tr th:only-of-type {\n",
       "        vertical-align: middle;\n",
       "    }\n",
       "\n",
       "    .dataframe tbody tr th {\n",
       "        vertical-align: top;\n",
       "    }\n",
       "\n",
       "    .dataframe thead th {\n",
       "        text-align: right;\n",
       "    }\n",
       "</style>\n",
       "<table border=\"1\" class=\"dataframe\">\n",
       "  <thead>\n",
       "    <tr style=\"text-align: right;\">\n",
       "      <th></th>\n",
       "      <th>datetime</th>\n",
       "      <th>open_time</th>\n",
       "      <th>o</th>\n",
       "      <th>h</th>\n",
       "      <th>l</th>\n",
       "      <th>c</th>\n",
       "      <th>v</th>\n",
       "      <th>close_time</th>\n",
       "      <th>qav</th>\n",
       "      <th>num_trades</th>\n",
       "      <th>taker_base_vol</th>\n",
       "      <th>taker_quote_vol</th>\n",
       "      <th>ignore</th>\n",
       "    </tr>\n",
       "  </thead>\n",
       "  <tbody>\n",
       "    <tr>\n",
       "      <th>66322</th>\n",
       "      <td>2019-06-09 04:14:59.999</td>\n",
       "      <td>1560020400000</td>\n",
       "      <td>0.004029</td>\n",
       "      <td>0.004037</td>\n",
       "      <td>0.004028</td>\n",
       "      <td>0.004034</td>\n",
       "      <td>34306.710938</td>\n",
       "      <td>1560021299999</td>\n",
       "      <td>138.321274</td>\n",
       "      <td>733</td>\n",
       "      <td>19665.849609</td>\n",
       "      <td>79.293716</td>\n",
       "      <td>0.0</td>\n",
       "    </tr>\n",
       "    <tr>\n",
       "      <th>66323</th>\n",
       "      <td>2019-06-09 04:29:59.999</td>\n",
       "      <td>1560021300000</td>\n",
       "      <td>0.004034</td>\n",
       "      <td>0.004039</td>\n",
       "      <td>0.004029</td>\n",
       "      <td>0.004039</td>\n",
       "      <td>32998.460938</td>\n",
       "      <td>1560022199999</td>\n",
       "      <td>133.169037</td>\n",
       "      <td>802</td>\n",
       "      <td>21544.519531</td>\n",
       "      <td>86.948921</td>\n",
       "      <td>0.0</td>\n",
       "    </tr>\n",
       "    <tr>\n",
       "      <th>66324</th>\n",
       "      <td>2019-06-09 04:44:59.999</td>\n",
       "      <td>1560022200000</td>\n",
       "      <td>0.004039</td>\n",
       "      <td>0.004046</td>\n",
       "      <td>0.004035</td>\n",
       "      <td>0.004045</td>\n",
       "      <td>45193.289062</td>\n",
       "      <td>1560023099999</td>\n",
       "      <td>182.580551</td>\n",
       "      <td>1051</td>\n",
       "      <td>24448.050781</td>\n",
       "      <td>98.771172</td>\n",
       "      <td>0.0</td>\n",
       "    </tr>\n",
       "    <tr>\n",
       "      <th>66325</th>\n",
       "      <td>2019-06-09 04:59:59.999</td>\n",
       "      <td>1560023100000</td>\n",
       "      <td>0.004043</td>\n",
       "      <td>0.004047</td>\n",
       "      <td>0.004037</td>\n",
       "      <td>0.004043</td>\n",
       "      <td>38223.019531</td>\n",
       "      <td>1560023999999</td>\n",
       "      <td>154.570938</td>\n",
       "      <td>723</td>\n",
       "      <td>22162.119141</td>\n",
       "      <td>89.618576</td>\n",
       "      <td>0.0</td>\n",
       "    </tr>\n",
       "    <tr>\n",
       "      <th>66326</th>\n",
       "      <td>2019-06-09 05:14:59.999</td>\n",
       "      <td>1560024000000</td>\n",
       "      <td>0.004044</td>\n",
       "      <td>0.004047</td>\n",
       "      <td>0.004040</td>\n",
       "      <td>0.004043</td>\n",
       "      <td>41289.191406</td>\n",
       "      <td>1560024899999</td>\n",
       "      <td>166.992157</td>\n",
       "      <td>645</td>\n",
       "      <td>28049.970703</td>\n",
       "      <td>113.444862</td>\n",
       "      <td>0.0</td>\n",
       "    </tr>\n",
       "  </tbody>\n",
       "</table>\n",
       "</div>"
      ],
      "text/plain": [
       "                     datetime      open_time         o         h         l  \\\n",
       "66322 2019-06-09 04:14:59.999  1560020400000  0.004029  0.004037  0.004028   \n",
       "66323 2019-06-09 04:29:59.999  1560021300000  0.004034  0.004039  0.004029   \n",
       "66324 2019-06-09 04:44:59.999  1560022200000  0.004039  0.004046  0.004035   \n",
       "66325 2019-06-09 04:59:59.999  1560023100000  0.004043  0.004047  0.004037   \n",
       "66326 2019-06-09 05:14:59.999  1560024000000  0.004044  0.004047  0.004040   \n",
       "\n",
       "              c             v     close_time         qav  num_trades  \\\n",
       "66322  0.004034  34306.710938  1560021299999  138.321274         733   \n",
       "66323  0.004039  32998.460938  1560022199999  133.169037         802   \n",
       "66324  0.004045  45193.289062  1560023099999  182.580551        1051   \n",
       "66325  0.004043  38223.019531  1560023999999  154.570938         723   \n",
       "66326  0.004043  41289.191406  1560024899999  166.992157         645   \n",
       "\n",
       "       taker_base_vol  taker_quote_vol  ignore  \n",
       "66322    19665.849609        79.293716     0.0  \n",
       "66323    21544.519531        86.948921     0.0  \n",
       "66324    24448.050781        98.771172     0.0  \n",
       "66325    22162.119141        89.618576     0.0  \n",
       "66326    28049.970703       113.444862     0.0  "
      ]
     },
     "execution_count": 17,
     "metadata": {},
     "output_type": "execute_result"
    }
   ],
   "source": [
    "df_test.head()"
   ]
  },
  {
   "cell_type": "code",
   "execution_count": 18,
   "metadata": {},
   "outputs": [],
   "source": [
    "df_train.to_hdf('TradingGym/dataset/binance_data_train.h5', 'STW')\n",
    "df_test.to_hdf('TradingGym/dataset/binance_data_test.h5', 'STW')"
   ]
  },
  {
   "cell_type": "markdown",
   "metadata": {},
   "source": [
    "---"
   ]
  },
  {
   "cell_type": "code",
   "execution_count": 8,
   "metadata": {},
   "outputs": [],
   "source": [
    "df = get_bars(\"BNBBTC\", interval='15m', limit=1000, starttime=1563160500001, endtime='')"
   ]
  },
  {
   "cell_type": "code",
   "execution_count": 9,
   "metadata": {},
   "outputs": [
    {
     "data": {
      "text/plain": [
       "286"
      ]
     },
     "execution_count": 9,
     "metadata": {},
     "output_type": "execute_result"
    }
   ],
   "source": [
    "len(df)"
   ]
  },
  {
   "cell_type": "markdown",
   "metadata": {},
   "source": [
    "##Reference\n",
    "https://steemit.com/python/@marketstack/how-to-download-historical-price-data-from-binance-with-python"
   ]
  },
  {
   "cell_type": "code",
   "execution_count": null,
   "metadata": {},
   "outputs": [],
   "source": []
  }
 ],
 "metadata": {
  "kernelspec": {
   "display_name": "Python 3",
   "language": "python",
   "name": "python3"
  },
  "language_info": {
   "codemirror_mode": {
    "name": "ipython",
    "version": 3
   },
   "file_extension": ".py",
   "mimetype": "text/x-python",
   "name": "python",
   "nbconvert_exporter": "python",
   "pygments_lexer": "ipython3",
   "version": "3.7.2"
  },
  "toc": {
   "base_numbering": 1,
   "nav_menu": {},
   "number_sections": true,
   "sideBar": true,
   "skip_h1_title": false,
   "title_cell": "Table of Contents",
   "title_sidebar": "Contents",
   "toc_cell": false,
   "toc_position": {},
   "toc_section_display": true,
   "toc_window_display": false
  }
 },
 "nbformat": 4,
 "nbformat_minor": 2
}
